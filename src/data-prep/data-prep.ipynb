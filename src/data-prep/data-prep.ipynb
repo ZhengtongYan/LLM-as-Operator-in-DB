{
 "cells": [
  {
   "cell_type": "markdown",
   "metadata": {},
   "source": [
    "The goal here is to prepare 50 queries to be used with Galois."
   ]
  },
  {
   "cell_type": "code",
   "execution_count": 1,
   "metadata": {},
   "outputs": [
    {
     "name": "stdout",
     "output_type": "stream",
     "text": [
      "c:\\Users\\moham\\Desktop\\LLM Query\\Last Exp\\galois\n"
     ]
    }
   ],
   "source": [
    "cd ../.."
   ]
  },
  {
   "cell_type": "code",
   "execution_count": 2,
   "metadata": {},
   "outputs": [],
   "source": [
    "import pandas as pd\n",
    "from src.utils import get_parsable_queries"
   ]
  },
  {
   "cell_type": "code",
   "execution_count": 3,
   "metadata": {},
   "outputs": [],
   "source": [
    "df = pd.read_csv('data/Spider_Filtered_Data.csv')"
   ]
  },
  {
   "cell_type": "code",
   "execution_count": 4,
   "metadata": {},
   "outputs": [],
   "source": [
    "# remove groupby queries\n",
    "df = df[~df.Query.str.contains('GROUP BY')]"
   ]
  },
  {
   "cell_type": "code",
   "execution_count": 5,
   "metadata": {},
   "outputs": [],
   "source": [
    "df = df[df.apply(lambda x: get_parsable_queries(x),axis=1)]"
   ]
  },
  {
   "cell_type": "code",
   "execution_count": null,
   "metadata": {},
   "outputs": [],
   "source": [
    "#df.to_csv('Spider_Filtered_Data - Queries_2.csv',index=False)"
   ]
  },
  {
   "cell_type": "markdown",
   "metadata": {},
   "source": [
    "We then go manually thorugh the file and (i) remove queries that are not generic, such as those containing Singer_ID, and (ii) add query type as a column indicating wether it contains a select operation (S), a projection (P), a where condition (W), an aggregation (A), a nested query (C), and a join (J)."
   ]
  },
  {
   "cell_type": "code",
   "execution_count": 6,
   "metadata": {},
   "outputs": [],
   "source": [
    "df = pd.read_csv('data/Spider_Filtered_Data_generic.csv')"
   ]
  },
  {
   "cell_type": "code",
   "execution_count": 7,
   "metadata": {},
   "outputs": [],
   "source": [
    "# remove nested queries\n",
    "df = df[~df.Type.str.contains('C')]"
   ]
  },
  {
   "cell_type": "code",
   "execution_count": 8,
   "metadata": {},
   "outputs": [],
   "source": [
    "df['Type2']=df.Type.apply(lambda x: \"\".join(list(set(x))))"
   ]
  },
  {
   "cell_type": "code",
   "execution_count": 9,
   "metadata": {},
   "outputs": [
    {
     "data": {
      "text/plain": [
       "Database  Type2\n",
       "flight_2  APS       3\n",
       "          WPAS      1\n",
       "          WPS       4\n",
       "flight_4  WPAS      2\n",
       "          WPS       4\n",
       "geo       APS       8\n",
       "          ASPJW     1\n",
       "          PS        7\n",
       "          WPAS     14\n",
       "          WPJS      3\n",
       "          WPS      25\n",
       "singer    WPS       1\n",
       "world_1   ASPJW     4\n",
       "          WPAS     11\n",
       "          WPJS      3\n",
       "          WPS       6\n",
       "dtype: int64"
      ]
     },
     "execution_count": 9,
     "metadata": {},
     "output_type": "execute_result"
    }
   ],
   "source": [
    "df.groupby(['Database','Type2']).size()"
   ]
  },
  {
   "cell_type": "code",
   "execution_count": 10,
   "metadata": {},
   "outputs": [],
   "source": [
    "# split joins an non-joins in order to get 40 non-joins and 10 joins\n",
    "df_non_join = df[~df.Type2.str.contains('J')]\n",
    "df_join = df[df.Type2.str.contains('J')]"
   ]
  },
  {
   "cell_type": "code",
   "execution_count": 11,
   "metadata": {},
   "outputs": [],
   "source": [
    "sampled_join = df_join.sample(10,random_state=42)"
   ]
  },
  {
   "cell_type": "code",
   "execution_count": 12,
   "metadata": {},
   "outputs": [
    {
     "data": {
      "text/plain": [
       "Database\n",
       "geo         54\n",
       "world_1     17\n",
       "flight_2     8\n",
       "flight_4     6\n",
       "singer       1\n",
       "Name: count, dtype: int64"
      ]
     },
     "execution_count": 12,
     "metadata": {},
     "output_type": "execute_result"
    }
   ],
   "source": [
    "df_non_join.Database.value_counts()"
   ]
  },
  {
   "cell_type": "code",
   "execution_count": 13,
   "metadata": {},
   "outputs": [],
   "source": [
    "sampled_non_join = df_non_join.sample(40,random_state=42)"
   ]
  },
  {
   "cell_type": "code",
   "execution_count": 14,
   "metadata": {},
   "outputs": [],
   "source": [
    "final_sample_df = pd.concat([sampled_non_join,sampled_join])"
   ]
  },
  {
   "cell_type": "markdown",
   "metadata": {},
   "source": [
    "We ended up removing 4 more queries that were not compatible (containing not operation, difficult to compute). We end up with 46 queries."
   ]
  },
  {
   "cell_type": "code",
   "execution_count": null,
   "metadata": {},
   "outputs": [],
   "source": [
    "#final_sample_df.to_csv('data/Final_Queries.csv',index=False)"
   ]
  }
 ],
 "metadata": {
  "kernelspec": {
   "display_name": "Python 3",
   "language": "python",
   "name": "python3"
  },
  "language_info": {
   "codemirror_mode": {
    "name": "ipython",
    "version": 3
   },
   "file_extension": ".py",
   "mimetype": "text/x-python",
   "name": "python",
   "nbconvert_exporter": "python",
   "pygments_lexer": "ipython3",
   "version": "3.10.13"
  },
  "orig_nbformat": 4
 },
 "nbformat": 4,
 "nbformat_minor": 2
}
